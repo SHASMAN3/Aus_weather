{
 "cells": [
  {
   "cell_type": "code",
   "execution_count": 2,
   "id": "158837f0-8a37-4a37-a4ac-e4bb49734172",
   "metadata": {},
   "outputs": [
    {
     "data": {
      "text/html": [
       "<pre style=\"white-space:pre;overflow-x:auto;line-height:normal;font-family:Menlo,'DejaVu Sans Mono',consolas,'Courier New',monospace\"><span style=\"color: #7fbfbf; text-decoration-color: #7fbfbf\">[09/12/24 00:14:12] </span><span style=\"color: #000080; text-decoration-color: #000080\">INFO    </span> Resolved project path as: D:\\DATA                                      <span style=\"color: #7f7f7f; text-decoration-color: #7f7f7f\">__init__.py:175</span>\n",
       "<span style=\"color: #7fbfbf; text-decoration-color: #7fbfbf\">                    </span>         SCIENCE\\PROJECT\\kedro\\machine_learning\\aus-weather.                    <span style=\"color: #7f7f7f; text-decoration-color: #7f7f7f\">               </span>\n",
       "<span style=\"color: #7fbfbf; text-decoration-color: #7fbfbf\">                    </span>         To set a different path, run <span style=\"color: #008000; text-decoration-color: #008000\">'%reload_kedro &lt;project_root&gt;'</span>            <span style=\"color: #7f7f7f; text-decoration-color: #7f7f7f\">               </span>\n",
       "</pre>\n"
      ],
      "text/plain": [
       "\u001b[2;36m[09/12/24 00:14:12]\u001b[0m\u001b[2;36m \u001b[0m\u001b[34mINFO    \u001b[0m Resolved project path as: D:\\DATA                                      \u001b[2m__init__.py\u001b[0m\u001b[2m:\u001b[0m\u001b[2m175\u001b[0m\n",
       "\u001b[2;36m                    \u001b[0m         SCIENCE\\PROJECT\\kedro\\machine_learning\\aus-weather.                    \u001b[2m               \u001b[0m\n",
       "\u001b[2;36m                    \u001b[0m         To set a different path, run \u001b[32m'%reload_kedro \u001b[0m\u001b[32m<\u001b[0m\u001b[32mproject_root\u001b[0m\u001b[32m>\u001b[0m\u001b[32m'\u001b[0m            \u001b[2m               \u001b[0m\n"
      ]
     },
     "metadata": {},
     "output_type": "display_data"
    },
    {
     "data": {
      "text/html": [
       "<pre style=\"white-space:pre;overflow-x:auto;line-height:normal;font-family:Menlo,'DejaVu Sans Mono',consolas,'Courier New',monospace\"><span style=\"color: #7fbfbf; text-decoration-color: #7fbfbf\">                    </span><span style=\"color: #000080; text-decoration-color: #000080\">INFO    </span> Kedro is sending anonymous usage data with the sole purpose of improving <span style=\"color: #7f7f7f; text-decoration-color: #7f7f7f\">plugin.py:233</span>\n",
       "<span style=\"color: #7fbfbf; text-decoration-color: #7fbfbf\">                    </span>         the product. No personal data or IP addresses are stored on our side. If <span style=\"color: #7f7f7f; text-decoration-color: #7f7f7f\">             </span>\n",
       "<span style=\"color: #7fbfbf; text-decoration-color: #7fbfbf\">                    </span>         you want to opt out, set the `KEDRO_DISABLE_TELEMETRY` or `DO_NOT_TRACK` <span style=\"color: #7f7f7f; text-decoration-color: #7f7f7f\">             </span>\n",
       "<span style=\"color: #7fbfbf; text-decoration-color: #7fbfbf\">                    </span>         environment variables, or create a `.telemetry` file in the current      <span style=\"color: #7f7f7f; text-decoration-color: #7f7f7f\">             </span>\n",
       "<span style=\"color: #7fbfbf; text-decoration-color: #7fbfbf\">                    </span>         working directory with the contents `consent: false`. Read more at       <span style=\"color: #7f7f7f; text-decoration-color: #7f7f7f\">             </span>\n",
       "<span style=\"color: #7fbfbf; text-decoration-color: #7fbfbf\">                    </span>         <span style=\"color: #0000ff; text-decoration-color: #0000ff; text-decoration: underline\">https://docs.kedro.org/en/stable/configuration/telemetry.html</span>            <span style=\"color: #7f7f7f; text-decoration-color: #7f7f7f\">             </span>\n",
       "</pre>\n"
      ],
      "text/plain": [
       "\u001b[2;36m                   \u001b[0m\u001b[2;36m \u001b[0m\u001b[34mINFO    \u001b[0m Kedro is sending anonymous usage data with the sole purpose of improving \u001b[2mplugin.py\u001b[0m\u001b[2m:\u001b[0m\u001b[2m233\u001b[0m\n",
       "\u001b[2;36m                    \u001b[0m         the product. No personal data or IP addresses are stored on our side. If \u001b[2m             \u001b[0m\n",
       "\u001b[2;36m                    \u001b[0m         you want to opt out, set the `KEDRO_DISABLE_TELEMETRY` or `DO_NOT_TRACK` \u001b[2m             \u001b[0m\n",
       "\u001b[2;36m                    \u001b[0m         environment variables, or create a `.telemetry` file in the current      \u001b[2m             \u001b[0m\n",
       "\u001b[2;36m                    \u001b[0m         working directory with the contents `consent: false`. Read more at       \u001b[2m             \u001b[0m\n",
       "\u001b[2;36m                    \u001b[0m         \u001b[4;94mhttps://docs.kedro.org/en/stable/configuration/telemetry.html\u001b[0m            \u001b[2m             \u001b[0m\n"
      ]
     },
     "metadata": {},
     "output_type": "display_data"
    },
    {
     "data": {
      "text/html": [
       "<pre style=\"white-space:pre;overflow-x:auto;line-height:normal;font-family:Menlo,'DejaVu Sans Mono',consolas,'Courier New',monospace\"><span style=\"color: #7fbfbf; text-decoration-color: #7fbfbf\">[09/12/24 00:14:13] </span><span style=\"color: #000080; text-decoration-color: #000080\">INFO    </span> Kedro project aus-weather                                              <span style=\"color: #7f7f7f; text-decoration-color: #7f7f7f\">__init__.py:141</span>\n",
       "</pre>\n"
      ],
      "text/plain": [
       "\u001b[2;36m[09/12/24 00:14:13]\u001b[0m\u001b[2;36m \u001b[0m\u001b[34mINFO    \u001b[0m Kedro project aus-weather                                              \u001b[2m__init__.py\u001b[0m\u001b[2m:\u001b[0m\u001b[2m141\u001b[0m\n"
      ]
     },
     "metadata": {},
     "output_type": "display_data"
    },
    {
     "data": {
      "text/html": [
       "<pre style=\"white-space:pre;overflow-x:auto;line-height:normal;font-family:Menlo,'DejaVu Sans Mono',consolas,'Courier New',monospace\"><span style=\"color: #7fbfbf; text-decoration-color: #7fbfbf\">                    </span><span style=\"color: #000080; text-decoration-color: #000080\">INFO    </span> Defined global variable <span style=\"color: #008000; text-decoration-color: #008000\">'context'</span>, <span style=\"color: #008000; text-decoration-color: #008000\">'session'</span>, <span style=\"color: #008000; text-decoration-color: #008000\">'catalog'</span> and            <span style=\"color: #7f7f7f; text-decoration-color: #7f7f7f\">__init__.py:142</span>\n",
       "<span style=\"color: #7fbfbf; text-decoration-color: #7fbfbf\">                    </span>         <span style=\"color: #008000; text-decoration-color: #008000\">'pipelines'</span>                                                            <span style=\"color: #7f7f7f; text-decoration-color: #7f7f7f\">               </span>\n",
       "</pre>\n"
      ],
      "text/plain": [
       "\u001b[2;36m                   \u001b[0m\u001b[2;36m \u001b[0m\u001b[34mINFO    \u001b[0m Defined global variable \u001b[32m'context'\u001b[0m, \u001b[32m'session'\u001b[0m, \u001b[32m'catalog'\u001b[0m and            \u001b[2m__init__.py\u001b[0m\u001b[2m:\u001b[0m\u001b[2m142\u001b[0m\n",
       "\u001b[2;36m                    \u001b[0m         \u001b[32m'pipelines'\u001b[0m                                                            \u001b[2m               \u001b[0m\n"
      ]
     },
     "metadata": {},
     "output_type": "display_data"
    },
    {
     "data": {
      "text/html": [
       "<pre style=\"white-space:pre;overflow-x:auto;line-height:normal;font-family:Menlo,'DejaVu Sans Mono',consolas,'Courier New',monospace\"><span style=\"color: #7fbfbf; text-decoration-color: #7fbfbf\">[09/12/24 00:14:20] </span><span style=\"color: #000080; text-decoration-color: #000080\">INFO    </span> Registered line magic <span style=\"color: #008000; text-decoration-color: #008000\">'run_viz'</span>                                        <span style=\"color: #7f7f7f; text-decoration-color: #7f7f7f\">__init__.py:148</span>\n",
       "</pre>\n"
      ],
      "text/plain": [
       "\u001b[2;36m[09/12/24 00:14:20]\u001b[0m\u001b[2;36m \u001b[0m\u001b[34mINFO    \u001b[0m Registered line magic \u001b[32m'run_viz'\u001b[0m                                        \u001b[2m__init__.py\u001b[0m\u001b[2m:\u001b[0m\u001b[2m148\u001b[0m\n"
      ]
     },
     "metadata": {},
     "output_type": "display_data"
    }
   ],
   "source": [
    "%reload_kedro"
   ]
  },
  {
   "cell_type": "code",
   "execution_count": 3,
   "id": "4e14e0a7-9cfe-435d-b1fd-2c278b461a39",
   "metadata": {},
   "outputs": [
    {
     "data": {
      "text/html": [
       "<pre style=\"white-space:pre;overflow-x:auto;line-height:normal;font-family:Menlo,'DejaVu Sans Mono',consolas,'Courier New',monospace\"></pre>\n"
      ],
      "text/plain": []
     },
     "metadata": {},
     "output_type": "display_data"
    },
    {
     "data": {
      "text/plain": [
       "\u001b[1m[\u001b[0m\u001b[32m'Aus-weather'\u001b[0m, \u001b[32m'parameters'\u001b[0m\u001b[1m]\u001b[0m"
      ]
     },
     "execution_count": 3,
     "metadata": {},
     "output_type": "execute_result"
    }
   ],
   "source": [
    "catalog.list()"
   ]
  },
  {
   "cell_type": "code",
   "execution_count": 17,
   "id": "0de51987-36e7-4f6d-bba7-8043455b6fe8",
   "metadata": {},
   "outputs": [],
   "source": [
    "import numpy as np # linear algebra\n",
    "import pandas as pd # data processing, CSV file I/O (e.g. pd.read_csv)\n",
    "import matplotlib.pyplot as plt # data visualization\n",
    "import seaborn as sns # statistical data visualization\n",
    "%matplotlib inline\n",
    "\n",
    "import warnings\n",
    "\n",
    "warnings.filterwarnings('ignore')"
   ]
  },
  {
   "cell_type": "code",
   "execution_count": 25,
   "id": "87b3d0a7-4cef-431b-bafb-ace4abc71c0e",
   "metadata": {},
   "outputs": [
    {
     "name": "stdout",
     "output_type": "stream",
     "text": [
      "Collecting statsmodels==0.13.5\n",
      "  Downloading statsmodels-0.13.5-cp310-cp310-win_amd64.whl.metadata (9.5 kB)\n",
      "Collecting pandas==1.5.3\n",
      "  Downloading pandas-1.5.3-cp310-cp310-win_amd64.whl.metadata (12 kB)\n",
      "Requirement already satisfied: patsy>=0.5.2 in d:\\data science\\project\\kedro\\machine_learning\\venv\\lib\\site-packages (from statsmodels==0.13.5) (0.5.6)\n",
      "Requirement already satisfied: packaging>=21.3 in c:\\users\\admin\\appdata\\roaming\\python\\python310\\site-packages (from statsmodels==0.13.5) (23.2)\n",
      "Requirement already satisfied: scipy>=1.3 in d:\\data science\\project\\kedro\\machine_learning\\venv\\lib\\site-packages (from statsmodels==0.13.5) (1.14.1)\n",
      "Requirement already satisfied: numpy>=1.22.3 in d:\\data science\\project\\kedro\\machine_learning\\venv\\lib\\site-packages (from statsmodels==0.13.5) (1.26.4)\n",
      "Requirement already satisfied: python-dateutil>=2.8.1 in c:\\users\\admin\\appdata\\roaming\\python\\python310\\site-packages (from pandas==1.5.3) (2.8.2)\n",
      "Requirement already satisfied: pytz>=2020.1 in d:\\data science\\project\\kedro\\machine_learning\\venv\\lib\\site-packages (from pandas==1.5.3) (2024.2)\n",
      "Requirement already satisfied: six in c:\\users\\admin\\appdata\\roaming\\python\\python310\\site-packages (from patsy>=0.5.2->statsmodels==0.13.5) (1.16.0)\n",
      "Downloading statsmodels-0.13.5-cp310-cp310-win_amd64.whl (9.1 MB)\n",
      "   ---------------------------------------- 0.0/9.1 MB ? eta -:--:--\n",
      "   --- ------------------------------------ 0.8/9.1 MB 4.2 MB/s eta 0:00:02\n",
      "   -------- ------------------------------- 1.8/9.1 MB 5.0 MB/s eta 0:00:02\n",
      "   ----------- ---------------------------- 2.6/9.1 MB 4.3 MB/s eta 0:00:02\n",
      "   -------------- ------------------------- 3.4/9.1 MB 4.1 MB/s eta 0:00:02\n",
      "   ----------------- ---------------------- 3.9/9.1 MB 3.9 MB/s eta 0:00:02\n",
      "   ------------------ --------------------- 4.2/9.1 MB 3.4 MB/s eta 0:00:02\n",
      "   ------------------- -------------------- 4.5/9.1 MB 3.2 MB/s eta 0:00:02\n",
      "   --------------------- ------------------ 5.0/9.1 MB 3.0 MB/s eta 0:00:02\n",
      "   ------------------------- -------------- 5.8/9.1 MB 3.0 MB/s eta 0:00:02\n",
      "   --------------------------- ------------ 6.3/9.1 MB 3.0 MB/s eta 0:00:01\n",
      "   ----------------------------- ---------- 6.8/9.1 MB 3.0 MB/s eta 0:00:01\n",
      "   ------------------------------ --------- 7.1/9.1 MB 2.9 MB/s eta 0:00:01\n",
      "   -------------------------------- ------- 7.3/9.1 MB 2.8 MB/s eta 0:00:01\n",
      "   ---------------------------------- ----- 7.9/9.1 MB 2.7 MB/s eta 0:00:01\n",
      "   ------------------------------------- -- 8.7/9.1 MB 2.7 MB/s eta 0:00:01\n",
      "   -------------------------------------- - 8.9/9.1 MB 2.7 MB/s eta 0:00:01\n",
      "   ---------------------------------------- 9.1/9.1 MB 2.6 MB/s eta 0:00:00\n",
      "Downloading pandas-1.5.3-cp310-cp310-win_amd64.whl (10.4 MB)\n",
      "   ---------------------------------------- 0.0/10.4 MB ? eta -:--:--\n",
      "   --- ------------------------------------ 0.8/10.4 MB 3.7 MB/s eta 0:00:03\n",
      "   ------- -------------------------------- 1.8/10.4 MB 4.8 MB/s eta 0:00:02\n",
      "   ------------ --------------------------- 3.1/10.4 MB 5.0 MB/s eta 0:00:02\n",
      "   ---------------- ----------------------- 4.2/10.4 MB 5.0 MB/s eta 0:00:02\n",
      "   ------------------- -------------------- 5.0/10.4 MB 4.7 MB/s eta 0:00:02\n",
      "   ------------------------ --------------- 6.3/10.4 MB 4.9 MB/s eta 0:00:01\n",
      "   ---------------------------- ----------- 7.3/10.4 MB 4.9 MB/s eta 0:00:01\n",
      "   --------------------------------- ------ 8.7/10.4 MB 5.1 MB/s eta 0:00:01\n",
      "   -------------------------------------- - 10.0/10.4 MB 5.2 MB/s eta 0:00:01\n",
      "   ---------------------------------------- 10.4/10.4 MB 5.1 MB/s eta 0:00:00\n",
      "Installing collected packages: pandas, statsmodels\n",
      "  Attempting uninstall: pandas\n",
      "    Found existing installation: pandas 2.2.2\n",
      "    Uninstalling pandas-2.2.2:\n",
      "      Successfully uninstalled pandas-2.2.2\n",
      "  Attempting uninstall: statsmodels\n",
      "    Found existing installation: statsmodels 0.14.1\n",
      "    Uninstalling statsmodels-0.14.1:\n",
      "      Successfully uninstalled statsmodels-0.14.1\n",
      "Successfully installed pandas-1.5.3 statsmodels-0.13.5\n"
     ]
    },
    {
     "name": "stderr",
     "output_type": "stream",
     "text": [
      "  WARNING: Failed to remove contents in a temporary directory 'D:\\DATA SCIENCE\\PROJECT\\kedro\\machine_learning\\venv\\Lib\\site-packages\\~andas.libs'.\n",
      "  You can safely remove it manually.\n",
      "  WARNING: Failed to remove contents in a temporary directory 'D:\\DATA SCIENCE\\PROJECT\\kedro\\machine_learning\\venv\\Lib\\site-packages\\~andas'.\n",
      "  You can safely remove it manually.\n"
     ]
    }
   ],
   "source": []
  },
  {
   "cell_type": "code",
   "execution_count": 29,
   "id": "1011c72c-608c-43ff-91d3-8137112c2478",
   "metadata": {},
   "outputs": [],
   "source": [
    "import pandas as pd\n",
    "import numpy as np\n",
    "# import statsmodels.api as sm\n",
    "from sklearn.model_selection import train_test_split\n",
    "from sklearn.model_selection import cross_val_score\n",
    "import matplotlib.pyplot as plt\n",
    "import seaborn as sns\n",
    "import os\n",
    "import sys \n",
    "import plotly.express as px\n",
    "from sklearn.linear_model import LogisticRegression\n",
    "import plotly.graph_objs as go\n",
    "import warnings\n",
    "from sklearn.preprocessing import StandardScaler\n",
    "from sklearn.linear_model import LinearRegression\n",
    "from sklearn import svm\n",
    "\n",
    "\n",
    "from sklearn.metrics import accuracy_score\n",
    "\n",
    "from sklearn.tree import DecisionTreeClassifier\n",
    "\n",
    "# from keras.models import Sequential\n",
    "\n",
    "from sklearn.naive_bayes import GaussianNB\n",
    "from sklearn.preprocessing import MinMaxScaler\n",
    "from sklearn.preprocessing import LabelEncoder\n",
    "from sklearn.metrics import confusion_matrix\n",
    "from sklearn.metrics import classification_report\n",
    "import pickle\n",
    "\n"
   ]
  },
  {
   "cell_type": "code",
   "execution_count": 26,
   "id": "bb7bce1b-b808-4a16-aba9-3ab7fbf5fd68",
   "metadata": {},
   "outputs": [],
   "source": [
    "# import statsmodels.api as sm\n"
   ]
  },
  {
   "cell_type": "code",
   "execution_count": 30,
   "id": "97f2f923-8702-4a37-8eb5-9dffe9b79c94",
   "metadata": {},
   "outputs": [
    {
     "data": {
      "text/html": [
       "<pre style=\"white-space:pre;overflow-x:auto;line-height:normal;font-family:Menlo,'DejaVu Sans Mono',consolas,'Courier New',monospace\"><span style=\"color: #7fbfbf; text-decoration-color: #7fbfbf\">[09/12/24 00:56:36] </span><span style=\"color: #000080; text-decoration-color: #000080\">INFO    </span> Loading data from <span style=\"color: #ff8700; text-decoration-color: #ff8700\">Aus-weather</span> <span style=\"font-weight: bold\">(</span>CSVDataset<span style=\"font-weight: bold\">)</span><span style=\"color: #808000; text-decoration-color: #808000\">...</span>                      <span style=\"color: #7f7f7f; text-decoration-color: #7f7f7f\">data_catalog.py:539</span>\n",
       "</pre>\n"
      ],
      "text/plain": [
       "\u001b[2;36m[09/12/24 00:56:36]\u001b[0m\u001b[2;36m \u001b[0m\u001b[34mINFO    \u001b[0m Loading data from \u001b[38;5;208mAus-weather\u001b[0m \u001b[1m(\u001b[0mCSVDataset\u001b[1m)\u001b[0m\u001b[33m...\u001b[0m                      \u001b[2mdata_catalog.py\u001b[0m\u001b[2m:\u001b[0m\u001b[2m539\u001b[0m\n"
      ]
     },
     "metadata": {},
     "output_type": "display_data"
    }
   ],
   "source": [
    "df=catalog.load(\"Aus-weather\")"
   ]
  },
  {
   "cell_type": "code",
   "execution_count": 31,
   "id": "e78e9438-9111-4956-98b5-21f893acfc90",
   "metadata": {},
   "outputs": [
    {
     "data": {
      "text/html": [
       "<pre style=\"white-space:pre;overflow-x:auto;line-height:normal;font-family:Menlo,'DejaVu Sans Mono',consolas,'Courier New',monospace\"></pre>\n"
      ],
      "text/plain": []
     },
     "metadata": {},
     "output_type": "display_data"
    },
    {
     "data": {
      "text/html": [
       "<div>\n",
       "<style scoped>\n",
       "    .dataframe tbody tr th:only-of-type {\n",
       "        vertical-align: middle;\n",
       "    }\n",
       "\n",
       "    .dataframe tbody tr th {\n",
       "        vertical-align: top;\n",
       "    }\n",
       "\n",
       "    .dataframe thead th {\n",
       "        text-align: right;\n",
       "    }\n",
       "</style>\n",
       "<table border=\"1\" class=\"dataframe\">\n",
       "  <thead>\n",
       "    <tr style=\"text-align: right;\">\n",
       "      <th></th>\n",
       "      <th>Date</th>\n",
       "      <th>Location</th>\n",
       "      <th>MinTemp</th>\n",
       "      <th>MaxTemp</th>\n",
       "      <th>Rainfall</th>\n",
       "      <th>Evaporation</th>\n",
       "      <th>Sunshine</th>\n",
       "      <th>WindGustDir</th>\n",
       "      <th>WindGustSpeed</th>\n",
       "      <th>WindDir9am</th>\n",
       "      <th>...</th>\n",
       "      <th>Humidity9am</th>\n",
       "      <th>Humidity3pm</th>\n",
       "      <th>Pressure9am</th>\n",
       "      <th>Pressure3pm</th>\n",
       "      <th>Cloud9am</th>\n",
       "      <th>Cloud3pm</th>\n",
       "      <th>Temp9am</th>\n",
       "      <th>Temp3pm</th>\n",
       "      <th>RainToday</th>\n",
       "      <th>RainTomorrow</th>\n",
       "    </tr>\n",
       "  </thead>\n",
       "  <tbody>\n",
       "    <tr>\n",
       "      <th>0</th>\n",
       "      <td>01-12-2008</td>\n",
       "      <td>Albury</td>\n",
       "      <td>13.4</td>\n",
       "      <td>22.9</td>\n",
       "      <td>0.6</td>\n",
       "      <td>NaN</td>\n",
       "      <td>NaN</td>\n",
       "      <td>W</td>\n",
       "      <td>44.0</td>\n",
       "      <td>W</td>\n",
       "      <td>...</td>\n",
       "      <td>71.0</td>\n",
       "      <td>22.0</td>\n",
       "      <td>1007.7</td>\n",
       "      <td>1007.1</td>\n",
       "      <td>8.0</td>\n",
       "      <td>NaN</td>\n",
       "      <td>16.9</td>\n",
       "      <td>21.8</td>\n",
       "      <td>No</td>\n",
       "      <td>No</td>\n",
       "    </tr>\n",
       "    <tr>\n",
       "      <th>1</th>\n",
       "      <td>02-12-2008</td>\n",
       "      <td>Albury</td>\n",
       "      <td>7.4</td>\n",
       "      <td>25.1</td>\n",
       "      <td>0.0</td>\n",
       "      <td>NaN</td>\n",
       "      <td>NaN</td>\n",
       "      <td>WNW</td>\n",
       "      <td>44.0</td>\n",
       "      <td>NNW</td>\n",
       "      <td>...</td>\n",
       "      <td>44.0</td>\n",
       "      <td>25.0</td>\n",
       "      <td>1010.6</td>\n",
       "      <td>1007.8</td>\n",
       "      <td>NaN</td>\n",
       "      <td>NaN</td>\n",
       "      <td>17.2</td>\n",
       "      <td>24.3</td>\n",
       "      <td>No</td>\n",
       "      <td>No</td>\n",
       "    </tr>\n",
       "    <tr>\n",
       "      <th>2</th>\n",
       "      <td>03-12-2008</td>\n",
       "      <td>Albury</td>\n",
       "      <td>12.9</td>\n",
       "      <td>25.7</td>\n",
       "      <td>0.0</td>\n",
       "      <td>NaN</td>\n",
       "      <td>NaN</td>\n",
       "      <td>WSW</td>\n",
       "      <td>46.0</td>\n",
       "      <td>W</td>\n",
       "      <td>...</td>\n",
       "      <td>38.0</td>\n",
       "      <td>30.0</td>\n",
       "      <td>1007.6</td>\n",
       "      <td>1008.7</td>\n",
       "      <td>NaN</td>\n",
       "      <td>2.0</td>\n",
       "      <td>21.0</td>\n",
       "      <td>23.2</td>\n",
       "      <td>No</td>\n",
       "      <td>No</td>\n",
       "    </tr>\n",
       "    <tr>\n",
       "      <th>3</th>\n",
       "      <td>04-12-2008</td>\n",
       "      <td>Albury</td>\n",
       "      <td>9.2</td>\n",
       "      <td>28.0</td>\n",
       "      <td>0.0</td>\n",
       "      <td>NaN</td>\n",
       "      <td>NaN</td>\n",
       "      <td>NE</td>\n",
       "      <td>24.0</td>\n",
       "      <td>SE</td>\n",
       "      <td>...</td>\n",
       "      <td>45.0</td>\n",
       "      <td>16.0</td>\n",
       "      <td>1017.6</td>\n",
       "      <td>1012.8</td>\n",
       "      <td>NaN</td>\n",
       "      <td>NaN</td>\n",
       "      <td>18.1</td>\n",
       "      <td>26.5</td>\n",
       "      <td>No</td>\n",
       "      <td>No</td>\n",
       "    </tr>\n",
       "    <tr>\n",
       "      <th>4</th>\n",
       "      <td>05-12-2008</td>\n",
       "      <td>Albury</td>\n",
       "      <td>17.5</td>\n",
       "      <td>32.3</td>\n",
       "      <td>1.0</td>\n",
       "      <td>NaN</td>\n",
       "      <td>NaN</td>\n",
       "      <td>W</td>\n",
       "      <td>41.0</td>\n",
       "      <td>ENE</td>\n",
       "      <td>...</td>\n",
       "      <td>82.0</td>\n",
       "      <td>33.0</td>\n",
       "      <td>1010.8</td>\n",
       "      <td>1006.0</td>\n",
       "      <td>7.0</td>\n",
       "      <td>8.0</td>\n",
       "      <td>17.8</td>\n",
       "      <td>29.7</td>\n",
       "      <td>No</td>\n",
       "      <td>No</td>\n",
       "    </tr>\n",
       "  </tbody>\n",
       "</table>\n",
       "<p>5 rows × 23 columns</p>\n",
       "</div>"
      ],
      "text/plain": [
       "\n",
       "         Date Location  MinTemp  MaxTemp  Rainfall  Evaporation  Sunshine  \\\n",
       "\u001b[1;36m0\u001b[0m  \u001b[1;36m01\u001b[0m-\u001b[1;36m12\u001b[0m-\u001b[1;36m2008\u001b[0m   Albury     \u001b[1;36m13.4\u001b[0m     \u001b[1;36m22.9\u001b[0m       \u001b[1;36m0.6\u001b[0m          NaN       NaN   \n",
       "\u001b[1;36m1\u001b[0m  \u001b[1;36m02\u001b[0m-\u001b[1;36m12\u001b[0m-\u001b[1;36m2008\u001b[0m   Albury      \u001b[1;36m7.4\u001b[0m     \u001b[1;36m25.1\u001b[0m       \u001b[1;36m0.0\u001b[0m          NaN       NaN   \n",
       "\u001b[1;36m2\u001b[0m  \u001b[1;36m03\u001b[0m-\u001b[1;36m12\u001b[0m-\u001b[1;36m2008\u001b[0m   Albury     \u001b[1;36m12.9\u001b[0m     \u001b[1;36m25.7\u001b[0m       \u001b[1;36m0.0\u001b[0m          NaN       NaN   \n",
       "\u001b[1;36m3\u001b[0m  \u001b[1;36m04\u001b[0m-\u001b[1;36m12\u001b[0m-\u001b[1;36m2008\u001b[0m   Albury      \u001b[1;36m9.2\u001b[0m     \u001b[1;36m28.0\u001b[0m       \u001b[1;36m0.0\u001b[0m          NaN       NaN   \n",
       "\u001b[1;36m4\u001b[0m  \u001b[1;36m05\u001b[0m-\u001b[1;36m12\u001b[0m-\u001b[1;36m2008\u001b[0m   Albury     \u001b[1;36m17.5\u001b[0m     \u001b[1;36m32.3\u001b[0m       \u001b[1;36m1.0\u001b[0m          NaN       NaN   \n",
       "\n",
       "  WindGustDir  WindGustSpeed WindDir9am  \u001b[33m...\u001b[0m Humidity9am  Humidity3pm  \\\n",
       "\u001b[1;36m0\u001b[0m           W           \u001b[1;36m44.0\u001b[0m          W  \u001b[33m...\u001b[0m        \u001b[1;36m71.0\u001b[0m         \u001b[1;36m22.0\u001b[0m   \n",
       "\u001b[1;36m1\u001b[0m         WNW           \u001b[1;36m44.0\u001b[0m        NNW  \u001b[33m...\u001b[0m        \u001b[1;36m44.0\u001b[0m         \u001b[1;36m25.0\u001b[0m   \n",
       "\u001b[1;36m2\u001b[0m         WSW           \u001b[1;36m46.0\u001b[0m          W  \u001b[33m...\u001b[0m        \u001b[1;36m38.0\u001b[0m         \u001b[1;36m30.0\u001b[0m   \n",
       "\u001b[1;36m3\u001b[0m          NE           \u001b[1;36m24.0\u001b[0m         SE  \u001b[33m...\u001b[0m        \u001b[1;36m45.0\u001b[0m         \u001b[1;36m16.0\u001b[0m   \n",
       "\u001b[1;36m4\u001b[0m           W           \u001b[1;36m41.0\u001b[0m        ENE  \u001b[33m...\u001b[0m        \u001b[1;36m82.0\u001b[0m         \u001b[1;36m33.0\u001b[0m   \n",
       "\n",
       "   Pressure9am  Pressure3pm  Cloud9am  Cloud3pm  Temp9am  Temp3pm  RainToday  \\\n",
       "\u001b[1;36m0\u001b[0m       \u001b[1;36m1007.7\u001b[0m       \u001b[1;36m1007.1\u001b[0m       \u001b[1;36m8.0\u001b[0m       NaN     \u001b[1;36m16.9\u001b[0m     \u001b[1;36m21.8\u001b[0m         No   \n",
       "\u001b[1;36m1\u001b[0m       \u001b[1;36m1010.6\u001b[0m       \u001b[1;36m1007.8\u001b[0m       NaN       NaN     \u001b[1;36m17.2\u001b[0m     \u001b[1;36m24.3\u001b[0m         No   \n",
       "\u001b[1;36m2\u001b[0m       \u001b[1;36m1007.6\u001b[0m       \u001b[1;36m1008.7\u001b[0m       NaN       \u001b[1;36m2.0\u001b[0m     \u001b[1;36m21.0\u001b[0m     \u001b[1;36m23.2\u001b[0m         No   \n",
       "\u001b[1;36m3\u001b[0m       \u001b[1;36m1017.6\u001b[0m       \u001b[1;36m1012.8\u001b[0m       NaN       NaN     \u001b[1;36m18.1\u001b[0m     \u001b[1;36m26.5\u001b[0m         No   \n",
       "\u001b[1;36m4\u001b[0m       \u001b[1;36m1010.8\u001b[0m       \u001b[1;36m1006.0\u001b[0m       \u001b[1;36m7.0\u001b[0m       \u001b[1;36m8.0\u001b[0m     \u001b[1;36m17.8\u001b[0m     \u001b[1;36m29.7\u001b[0m         No   \n",
       "\n",
       "   RainTomorrow  \n",
       "\u001b[1;36m0\u001b[0m            No  \n",
       "\u001b[1;36m1\u001b[0m            No  \n",
       "\u001b[1;36m2\u001b[0m            No  \n",
       "\u001b[1;36m3\u001b[0m            No  \n",
       "\u001b[1;36m4\u001b[0m            No  \n",
       "\n",
       "\u001b[1m[\u001b[0m\u001b[1;36m5\u001b[0m rows x \u001b[1;36m23\u001b[0m columns\u001b[1m]\u001b[0m"
      ]
     },
     "execution_count": 31,
     "metadata": {},
     "output_type": "execute_result"
    }
   ],
   "source": [
    "df.head()"
   ]
  },
  {
   "cell_type": "code",
   "execution_count": 32,
   "id": "12ca29a7-4992-41ba-a9e1-6a277cac4ca1",
   "metadata": {},
   "outputs": [
    {
     "name": "stdout",
     "output_type": "stream",
     "text": [
      "<class 'pandas.core.frame.DataFrame'>\n",
      "RangeIndex: 145460 entries, 0 to 145459\n",
      "Data columns (total 23 columns):\n",
      " #   Column         Non-Null Count   Dtype  \n",
      "---  ------         --------------   -----  \n",
      " 0   Date           145460 non-null  object \n",
      " 1   Location       145460 non-null  object \n",
      " 2   MinTemp        143975 non-null  float64\n",
      " 3   MaxTemp        144199 non-null  float64\n",
      " 4   Rainfall       142199 non-null  float64\n",
      " 5   Evaporation    82670 non-null   float64\n",
      " 6   Sunshine       75625 non-null   float64\n",
      " 7   WindGustDir    135134 non-null  object \n",
      " 8   WindGustSpeed  135197 non-null  float64\n",
      " 9   WindDir9am     134894 non-null  object \n",
      " 10  WindDir3pm     141232 non-null  object \n",
      " 11  WindSpeed9am   143693 non-null  float64\n",
      " 12  WindSpeed3pm   142398 non-null  float64\n",
      " 13  Humidity9am    142806 non-null  float64\n",
      " 14  Humidity3pm    140953 non-null  float64\n",
      " 15  Pressure9am    130395 non-null  float64\n",
      " 16  Pressure3pm    130432 non-null  float64\n",
      " 17  Cloud9am       89572 non-null   float64\n",
      " 18  Cloud3pm       86102 non-null   float64\n",
      " 19  Temp9am        143693 non-null  float64\n",
      " 20  Temp3pm        141851 non-null  float64\n",
      " 21  RainToday      142199 non-null  object \n",
      " 22  RainTomorrow   142193 non-null  object \n",
      "dtypes: float64(16), object(7)\n",
      "memory usage: 25.5+ MB\n"
     ]
    }
   ],
   "source": [
    "df.info()"
   ]
  },
  {
   "cell_type": "code",
   "execution_count": null,
   "id": "981e2a71-68bd-49b8-a3e5-fcf98fc9bf3b",
   "metadata": {},
   "outputs": [],
   "source": [
    "# function for preprocessing data\n",
    "def preprocess_dataframe(d_f):\n",
    "    df_filtered=df[df['RainTomorrow'].notna()]\n",
    "    df_inference=df[df['RainTomorrow'].isna()]\n",
    "    return df_filtered, df_inference"
   ]
  },
  {
   "cell_type": "code",
   "execution_count": null,
   "id": "23b47411-6513-4ccc-96e4-6337f0c64aa2",
   "metadata": {},
   "outputs": [],
   "source": []
  },
  {
   "cell_type": "code",
   "execution_count": null,
   "id": "a31cd7d9-62c1-4470-973b-5cbc200296b9",
   "metadata": {},
   "outputs": [],
   "source": []
  },
  {
   "cell_type": "code",
   "execution_count": null,
   "id": "97051f7e-392a-4dcd-9571-1ea4fab6cdd2",
   "metadata": {},
   "outputs": [],
   "source": []
  },
  {
   "cell_type": "code",
   "execution_count": null,
   "id": "693a0c4a-3a3e-437b-8eaf-95b3db68bca5",
   "metadata": {},
   "outputs": [],
   "source": []
  },
  {
   "cell_type": "code",
   "execution_count": null,
   "id": "26d15238-f838-4034-9845-cba441a27190",
   "metadata": {},
   "outputs": [],
   "source": []
  },
  {
   "cell_type": "code",
   "execution_count": null,
   "id": "3e932654-145f-4a16-9d5b-a24d5647468d",
   "metadata": {},
   "outputs": [],
   "source": []
  },
  {
   "cell_type": "code",
   "execution_count": null,
   "id": "d547f214-fe30-42e3-a339-c435e8e4ea17",
   "metadata": {},
   "outputs": [],
   "source": []
  },
  {
   "cell_type": "code",
   "execution_count": null,
   "id": "edd2aaf5-89b5-4026-8208-4990cd798958",
   "metadata": {},
   "outputs": [],
   "source": []
  },
  {
   "cell_type": "code",
   "execution_count": null,
   "id": "4d34e466-8880-481d-b867-7e63d02de170",
   "metadata": {},
   "outputs": [],
   "source": []
  }
 ],
 "metadata": {
  "kernelspec": {
   "display_name": "Kedro (aus_weather)",
   "language": "python",
   "name": "kedro_aus_weather"
  },
  "language_info": {
   "codemirror_mode": {
    "name": "ipython",
    "version": 3
   },
   "file_extension": ".py",
   "mimetype": "text/x-python",
   "name": "python",
   "nbconvert_exporter": "python",
   "pygments_lexer": "ipython3",
   "version": "3.10.0"
  }
 },
 "nbformat": 4,
 "nbformat_minor": 5
}
